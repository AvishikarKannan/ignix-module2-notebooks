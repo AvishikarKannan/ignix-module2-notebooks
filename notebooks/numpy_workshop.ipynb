{
 "cells": [
  {
   "cell_type": "markdown",
   "metadata": {},
   "source": [
    "# IGNIX Module 2 - NumPy Workshop\n",
    "## Phoenix Club Data Science Series\n",
    "\n",
    "Welcome to the NumPy hands-on workshop! In this notebook, you'll learn the fundamentals of numerical computing with Python.\n",
    "\n",
    "### What You'll Learn:\n",
    "- Creating and manipulating NumPy arrays\n",
    "- Mathematical operations\n",
    "- Array indexing and slicing\n",
    "- Broadcasting and vectorization"
   ]
  },
  {
   "cell_type": "code",
   "execution_count": null,
   "metadata": {},
   "outputs": [],
   "source": [
    "# Import NumPy\n",
    "import numpy as np\n",
    "import matplotlib.pyplot as plt\n",
    "\n",
    "print(\"Welcome to NumPy Workshop!\")\n",
    "print(f\"NumPy version: {np.__version__}\")"
   ]
  },
  {
   "cell_type": "markdown",
   "metadata": {},
   "source": [
    "## Exercise 1: Creating Your First Array"
   ]
  },
  {
   "cell_type": "code",
   "execution_count": null,
   "metadata": {},
   "outputs": [],
   "source": [
    "# Create your first NumPy array\n",
    "arr = np.array([1, 2, 3, 4, 5])\n",
    "print(\"Your first array:\", arr)\n",
    "print(\"Array shape:\", arr.shape)\n",
    "print(\"Array dtype:\", arr.dtype)"
   ]
  },
  {
   "cell_type": "markdown",
   "metadata": {},
   "source": [
    "## Exercise 2: Array Operations\n",
    "Try the following operations:"
   ]
  },
  {
   "cell_type": "code",
   "execution_count": null,
   "metadata": {},
   "outputs": [],
   "source": [
    "# TODO: Create two arrays and perform operations\n",
    "# Your code here during the workshop"
   ]
  }
 ],
 "metadata": {
  "kernelspec": {
   "display_name": "Python 3",
   "language": "python",
   "name": "python3"
  },
  "language_info": {
   "codemirror_mode": {
    "name": "ipython",
    "version": 3
   },
   "file_extension": ".py",
   "mimetype": "text/x-python",
   "name": "python",
   "nbconvert_exporter": "python",
   "pygments_lexer": "ipython3",
   "version": "3.8.5"
  }
 },
 "nbformat": 4,
 "nbformat_minor": 4
}