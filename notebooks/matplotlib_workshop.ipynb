{
 "cells": [
  {
   "cell_type": "markdown",
   "metadata": {},
   "source": [
    "# IGNIX Module 2 - Matplotlib Workshop\n",
    "## Phoenix Club Data Science Series\n",
    "\n",
    "Welcome to the Matplotlib hands-on workshop! Create stunning data visualizations with Python's premier plotting library.\n",
    "\n",
    "### What You'll Learn:\n",
    "- Creating basic plots (line, bar, scatter)\n",
    "- Customizing plots with colors, labels, and styles\n",
    "- Creating subplots and complex layouts\n",
    "- Best practices for data visualization"
   ]
  },
  {
   "cell_type": "code",
   "execution_count": null,
   "metadata": {},
   "outputs": [],
   "source": [
    "# Import libraries\n",
    "import matplotlib.pyplot as plt\n",
    "import numpy as np\n",
    "import pandas as pd\n",
    "\n",
    "print(\"Welcome to Matplotlib Workshop!\")\n",
    "print(f\"Matplotlib version: {plt.matplotlib.__version__}\")"
   ]
  },
  {
   "cell_type": "markdown",
   "metadata": {},
   "source": [
    "## Exercise 1: Your First Plot"
   ]
  },
  {
   "cell_type": "code",
   "execution_count": null,
   "metadata": {},
   "outputs": [],
   "source": [
    "# Create your first plot\n",
    "x = np.linspace(0, 10, 100)\n",
    "y = np.sin(x)\n",
    "\n",
    "plt.figure(figsize=(10, 6))\n",
    "plt.plot(x, y, color='#ff6b35', linewidth=2)\n",
    "plt.title('Your First Plot - Sine Wave', fontsize=16)\n",
    "plt.xlabel('X values')\n",
    "plt.ylabel('Y values')\n",
    "plt.grid(True, alpha=0.3)\n",
    "plt.show()"
   ]
  },
  {
   "cell_type": "markdown",
   "metadata": {},
   "source": [
    "## Exercise 2: Visualizing Workshop Data\n",
    "Let's create visualizations using our workshop datasets:"
   ]
  },
  {
   "cell_type": "code",
   "execution_count": null,
   "metadata": {},
   "outputs": [],
   "source": [
    "# Load and visualize the sales data\n",
    "# URL to the dataset from your workshop website\n",
    "url = \"https://raw.githubusercontent.com/phoenix-club/ignix-module2/main/datasets/sales_data.csv\"\n",
    "\n",
    "# TODO: Create visualizations\n",
    "# Your code here during the workshop"
   ]
  }
 ],
 "metadata": {
  "kernelspec": {
   "display_name": "Python 3",
   "language": "python",
   "name": "python3"
  },
  "language_info": {
   "codemirror_mode": {
    "name": "ipython",
    "version": 3
   },
   "file_extension": ".py",
   "mimetype": "text/x-python",
   "name": "python",
   "nbconvert_exporter": "python",
   "pygments_lexer": "ipython3",
   "version": "3.8.5"
  }
 },
 "nbformat": 4,
 "nbformat_minor": 4
}